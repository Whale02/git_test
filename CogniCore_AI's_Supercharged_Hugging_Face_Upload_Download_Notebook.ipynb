{
  "cells": [
    {
      "cell_type": "markdown",
      "metadata": {
        "id": "view-in-github",
        "colab_type": "text"
      },
      "source": [
        "<a href=\"https://colab.research.google.com/github/Whale02/git_test/blob/main/CogniCore_AI's_Supercharged_Hugging_Face_Upload_Download_Notebook.ipynb\" target=\"_parent\"><img src=\"https://colab.research.google.com/assets/colab-badge.svg\" alt=\"Open In Colab\"/></a>"
      ]
    },
    {
      "cell_type": "markdown",
      "id": "b4627b33-207c-4074-a58d-cb3b155decc7",
      "metadata": {
        "id": "b4627b33-207c-4074-a58d-cb3b155decc7"
      },
      "source": [
        "# 🚀 CogniCore AI's Supercharged Hugging Face Upload Download Notebook\n",
        "\n",
        "# ✅ Subscribe to [CogniCore AI](https://www.youtube.com/@CogniCore-AI) Youtube channel for more free one-click/automatic install scripts\n",
        "\n",
        "- **Features**:\n",
        "  - Ultra-fast transfers with `hf_transfer`\n",
        "  - Full folder or single file operations\n",
        "  - Selective downloads with pattern matching\n",
        "  - Real-time speed metrics\n",
        "  - Secure token handling\n",
        "\n",
        "- **Instructions**:\n",
        "  1. Run each cell in order\n",
        "  2. Follow the interactive prompts\n",
        "  3. Wait for completion messages"
      ]
    },
    {
      "cell_type": "markdown",
      "id": "a96514ee-b03f-42b4-8ec7-95a90dcff0ac",
      "metadata": {
        "id": "a96514ee-b03f-42b4-8ec7-95a90dcff0ac"
      },
      "source": [
        "## ⚙️ Install Required Libraries\n",
        "\n",
        "Execute the following cell to install or upgrade necessary libraries."
      ]
    },
    {
      "cell_type": "code",
      "execution_count": null,
      "id": "9caf0788-f117-41b1-8ae3-e8274aaeb00f",
      "metadata": {
        "id": "9caf0788-f117-41b1-8ae3-e8274aaeb00f"
      },
      "outputs": [],
      "source": [
        "!pip install huggingface_hub --upgrade\n",
        "!pip install ipywidgets --upgrade\n",
        "!pip install git+https://github.com/huggingface/huggingface_hub --upgrade\n",
        "!pip install hf_transfer --upgrade\n",
        "!pip install --upgrade jupyterlab-widgets\n",
        "!pip install --upgrade ipywidgets\n",
        "!jupyter nbextension enable --py widgetsnbextension"
      ]
    },
    {
      "cell_type": "markdown",
      "id": "d24f3fa1-f007-45ff-96c3-9f8545172159",
      "metadata": {
        "id": "d24f3fa1-f007-45ff-96c3-9f8545172159"
      },
      "source": [
        "## 🔑 Authenticate with Hugging Face\n",
        "\n",
        "Enter your Hugging Face token below. You can generate or retrieve your token from [Hugging Face Tokens](https://huggingface.co/settings/tokens)."
      ]
    },
    {
      "cell_type": "code",
      "execution_count": null,
      "id": "b84fd489-52f4-4519-b018-f566059d8481",
      "metadata": {
        "id": "b84fd489-52f4-4519-b018-f566059d8481"
      },
      "outputs": [],
      "source": [
        "import os\n",
        "import subprocess\n",
        "import platform\n",
        "\n",
        "hugging_face_token = input('Enter your Hugging Face token: ')\n",
        "\n",
        "# Set the environment variable\n",
        "os.environ['HUGGING_FACE_HUB_TOKEN'] = hugging_face_token\n",
        "os.environ['HF_HUB_ENABLE_HF_TRANSFER'] = \"1\"\n",
        "os.environ['HF_HUB_VERBOSITY'] = \"info\"  # Changed to \"info\" to reduce verbosity\n",
        "\n",
        "# Determine the operating system\n",
        "system = platform.system()\n",
        "\n",
        "if system == \"Linux\":\n",
        "    export_command = f'export HUGGING_FACE_HUB_TOKEN={hugging_face_token}'\n",
        "    subprocess.run(export_command, shell=True, check=True)\n",
        "    export_command = f'export HF_HUB_ENABLE_HF_TRANSFER=1'\n",
        "    subprocess.run(export_command, shell=True, check=True)\n",
        "    export_command = f'export HF_HUB_VERBOSITY=\\\"info\\\"'  # Updated to \"info\"\n",
        "    subprocess.run(export_command, shell=True, check=True)\n",
        "\n",
        "# Command to log in using the token\n",
        "login_command = ['huggingface-cli', 'login', '--token', hugging_face_token]\n",
        "\n",
        "# Execute the login command and capture output\n",
        "try:\n",
        "    result = subprocess.run(login_command, check=True, capture_output=True, text=True)\n",
        "    print(\"Output:\", result.stdout)\n",
        "    print(\"Error:\", result.stderr)\n",
        "except subprocess.CalledProcessError as e:\n",
        "    print(\"Command failed with exit code:\", e.returncode)\n",
        "    print(\"Output:\", e.output)\n",
        "    print(\"Error:\", e.stderr)\n",
        "\n",
        "print(\"🎉 Authentication Successful! 🎉\")"
      ]
    },
    {
      "cell_type": "markdown",
      "id": "63ec53a9-a77f-4aa8-80e9-bbec960aa108",
      "metadata": {
        "id": "63ec53a9-a77f-4aa8-80e9-bbec960aa108"
      },
      "source": [
        "## 📥 Upload a Large Folder\n",
        "\n",
        "Upload an entire folder to your Hugging Face repository."
      ]
    },
    {
      "cell_type": "code",
      "execution_count": null,
      "id": "9f547c8f-96a9-4c98-a141-9ffd475e8ba5",
      "metadata": {
        "id": "9f547c8f-96a9-4c98-a141-9ffd475e8ba5"
      },
      "outputs": [],
      "source": [
        "from huggingface_hub import HfApi\n",
        "import os\n",
        "\n",
        "api = HfApi()\n",
        "\n",
        "# Prompt the user for input\n",
        "repo_id = input('Enter the repository ID (e.g., YourUserName/reponame): ')\n",
        "folder_path = input('Enter the folder path to upload (e.g., /path/to/your/models): ')\n",
        "\n",
        "# Ensure the folder path exists and is a valid directory\n",
        "if not os.path.exists(folder_path):\n",
        "    raise ValueError(f\"The specified folder path '{folder_path}' does not exist.\")\n",
        "if not os.path.isdir(folder_path):\n",
        "    raise ValueError(f\"The specified path '{folder_path}' is not a directory.\")\n",
        "\n",
        "# Perform the upload\n",
        "api.upload_large_folder(\n",
        "    repo_id=repo_id,\n",
        "    repo_type=\"model\",\n",
        "    folder_path=folder_path,\n",
        ")\n",
        "\n",
        "print(\"🚀 UPLOAD COMPLETED 🚀\")"
      ]
    },
    {
      "cell_type": "markdown",
      "id": "ba61224a-6594-46bd-becd-99aeebb65ab5",
      "metadata": {
        "id": "ba61224a-6594-46bd-becd-99aeebb65ab5"
      },
      "source": [
        "## 📤 Upload a Single File\n",
        "\n",
        "Upload a specific file to your Hugging Face repository."
      ]
    },
    {
      "cell_type": "code",
      "execution_count": null,
      "id": "f155d2c8-1b00-444a-abf6-f3bdfdfbcc53",
      "metadata": {
        "id": "f155d2c8-1b00-444a-abf6-f3bdfdfbcc53"
      },
      "outputs": [],
      "source": [
        "from huggingface_hub import HfApi\n",
        "import os\n",
        "\n",
        "api = HfApi()\n",
        "\n",
        "# Prompt the user for input\n",
        "repo_id = input('Enter the repository ID (e.g., YourUserName/reponame): ')\n",
        "file_path = input('Enter the file path to upload (e.g., /path/to/your/model/file_name.safetensors): ')\n",
        "\n",
        "# Automatically use the file name\n",
        "file_name_in_repo = os.path.basename(file_path)\n",
        "\n",
        "# Perform the upload\n",
        "api.upload_file(\n",
        "    path_or_fileobj=file_path,\n",
        "    path_in_repo=file_name_in_repo,\n",
        "    repo_id=repo_id,\n",
        "    repo_type=\"model\",\n",
        ")\n",
        "\n",
        "print(\"🚀 UPLOAD COMPLETED 🚀\")"
      ]
    },
    {
      "cell_type": "markdown",
      "id": "786ad0b0-f0ec-4f5c-a068-7c1d8c8d826b",
      "metadata": {
        "id": "786ad0b0-f0ec-4f5c-a068-7c1d8c8d826b"
      },
      "source": [
        "## 📥 Download All Files from a Repository\n",
        "\n",
        "Download all files from a Hugging Face repository."
      ]
    },
    {
      "cell_type": "code",
      "execution_count": null,
      "id": "5bd8cf46-5ef4-4b05-8424-0ddfde3b038b",
      "metadata": {
        "id": "5bd8cf46-5ef4-4b05-8424-0ddfde3b038b"
      },
      "outputs": [],
      "source": [
        "from huggingface_hub import snapshot_download\n",
        "import os\n",
        "\n",
        "# Ensure the local directory exists\n",
        "repo_id = input('Enter the repository ID (e.g., YourUserName/reponame): ')\n",
        "local_dir = input('Enter the local directory path to save files (e.g., /path/to/local/models): ')\n",
        "\n",
        "os.makedirs(local_dir, exist_ok=True)\n",
        "\n",
        "snapshot_download(repo_id=repo_id, local_dir=local_dir)\n",
        "\n",
        "print(\"🚀 DOWNLOAD COMPLETED 🚀\")"
      ]
    },
    {
      "cell_type": "markdown",
      "id": "f35b3eef-90aa-49d9-9366-4500d44080b8",
      "metadata": {
        "id": "f35b3eef-90aa-49d9-9366-4500d44080b8"
      },
      "source": [
        "## 📥 Download Specific Files\n",
        "\n",
        "Download one or more specific files from a Hugging Face repository."
      ]
    },
    {
      "cell_type": "code",
      "execution_count": null,
      "id": "ae6db5f9-7aef-477d-9a48-7f4fce7ff196",
      "metadata": {
        "id": "ae6db5f9-7aef-477d-9a48-7f4fce7ff196"
      },
      "outputs": [],
      "source": [
        "from huggingface_hub import snapshot_download\n",
        "import os\n",
        "\n",
        "# Define the repository, file path, and local directory\n",
        "repo_id_set = input('Enter the repository ID (e.g., YourUserName/reponame): ')\n",
        "local_dir_set = input('Enter the local directory path to save files (e.g., /path/to/local/models): ')\n",
        "files_to_download = input('Enter the file names to download, separated by commas (e.g., file1.safetensors, file2.safetensors, file3.zip): ').split(', ')\n",
        "\n",
        "# Ensure the local directory exists\n",
        "os.makedirs(local_dir_set, exist_ok=True)\n",
        "print(\"DOWNLOAD Started...\")\n",
        "snapshot_download(\n",
        "    repo_id=repo_id_set,\n",
        "    allow_patterns=files_to_download,\n",
        "    local_dir=local_dir_set,\n",
        ")\n",
        "\n",
        "print(\"🚀 DOWNLOAD COMPLETED 🚀\")"
      ]
    }
  ],
  "metadata": {
    "kernelspec": {
      "display_name": "Python 3 (ipykernel)",
      "language": "python",
      "name": "python3"
    },
    "language_info": {
      "codemirror_mode": {
        "name": "ipython",
        "version": 3
      },
      "file_extension": ".py",
      "mimetype": "text/x-python",
      "name": "python",
      "nbconvert_exporter": "python",
      "pygments_lexer": "ipython3",
      "version": "3.11.10"
    },
    "colab": {
      "provenance": [],
      "include_colab_link": true
    }
  },
  "nbformat": 4,
  "nbformat_minor": 5
}